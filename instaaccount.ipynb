{
  "nbformat": 4,
  "nbformat_minor": 0,
  "metadata": {
    "colab": {
      "provenance": []
    },
    "kernelspec": {
      "name": "python3",
      "display_name": "Python 3"
    },
    "language_info": {
      "name": "python"
    }
  },
  "cells": [
    {
      "cell_type": "code",
      "source": [
        "!pip install instaloader\n"
      ],
      "metadata": {
        "colab": {
          "base_uri": "https://localhost:8080/"
        },
        "id": "hpoPS7ZMFWjO",
        "outputId": "07456ee2-5cc0-4b8d-9cc5-16fecdb068c3"
      },
      "execution_count": 7,
      "outputs": [
        {
          "output_type": "stream",
          "name": "stdout",
          "text": [
            "Looking in indexes: https://pypi.org/simple, https://us-python.pkg.dev/colab-wheels/public/simple/\n",
            "Collecting instaloader\n",
            "  Downloading instaloader-4.9.6.tar.gz (60 kB)\n",
            "\u001b[2K     \u001b[90m━━━━━━━━━━━━━━━━━━━━━━━━━━━━━━━━━━━━━━━━\u001b[0m \u001b[32m60.5/60.5 kB\u001b[0m \u001b[31m2.9 MB/s\u001b[0m eta \u001b[36m0:00:00\u001b[0m\n",
            "\u001b[?25h  Preparing metadata (setup.py) ... \u001b[?25l\u001b[?25hdone\n",
            "Requirement already satisfied: requests>=2.4 in /usr/local/lib/python3.10/dist-packages (from instaloader) (2.27.1)\n",
            "Requirement already satisfied: urllib3<1.27,>=1.21.1 in /usr/local/lib/python3.10/dist-packages (from requests>=2.4->instaloader) (1.26.15)\n",
            "Requirement already satisfied: certifi>=2017.4.17 in /usr/local/lib/python3.10/dist-packages (from requests>=2.4->instaloader) (2022.12.7)\n",
            "Requirement already satisfied: charset-normalizer~=2.0.0 in /usr/local/lib/python3.10/dist-packages (from requests>=2.4->instaloader) (2.0.12)\n",
            "Requirement already satisfied: idna<4,>=2.5 in /usr/local/lib/python3.10/dist-packages (from requests>=2.4->instaloader) (3.4)\n",
            "Building wheels for collected packages: instaloader\n",
            "  Building wheel for instaloader (setup.py) ... \u001b[?25l\u001b[?25hdone\n",
            "  Created wheel for instaloader: filename=instaloader-4.9.6-py3-none-any.whl size=62308 sha256=9a05a9b5ea381595eaecf4ff15129399b04dd7ba2442d3c646d49c723566e929\n",
            "  Stored in directory: /root/.cache/pip/wheels/b4/14/ec/7606499df2201abd28a19573fe2a3488639792d46aad5600f3\n",
            "Successfully built instaloader\n",
            "Installing collected packages: instaloader\n",
            "Successfully installed instaloader-4.9.6\n"
          ]
        }
      ]
    },
    {
      "cell_type": "code",
      "source": [
        "import instaloader\n",
        "\n",
        "# Create an Instaloader instance\n",
        "loader = instaloader.Instaloader()\n",
        "\n",
        "# Fetch the profile details\n",
        "target_username = input(\"Enter the username you want to fetch details for: \")\n",
        "try:\n",
        "    profile = instaloader.Profile.from_username(loader.context, target_username)\n",
        "    # Print the fetched details\n",
        "    print(\"Username:\", profile.username)\n",
        "    print(\"Number of Posts Uploaded:\", profile.mediacount)\n",
        "    print(\"Followers:\", profile.followers)\n",
        "    print(\"Following:\", profile.followees)\n",
        "    print(\"Bio:\", profile.biography)\n",
        "    # Download the profile picture\n",
        "    loader.download_profile(target_username, profile_pic_only=True)\n",
        "except instaloader.exceptions.LoginRequiredException:\n",
        "    print(\"The account is private. You need to be logged in to access its details.\")\n",
        "    account_page_url = f\"https://www.instagram.com/{target_username}/\"\n",
        "    print(\"Account Page URL:\", account_page_url)\n",
        "except instaloader.exceptions.ProfileNotExistsException:\n",
        "    print(\"The provided username does not exist.\")\n"
      ],
      "metadata": {
        "colab": {
          "base_uri": "https://localhost:8080/"
        },
        "id": "-1fpEEOmFO4C",
        "outputId": "c2a44f0e-5e86-4f60-bc8a-fac02384f0e7"
      },
      "execution_count": 11,
      "outputs": [
        {
          "output_type": "stream",
          "name": "stdout",
          "text": [
            "Enter the username you want to fetch details for: _.b.h.a.r.a.t.h.__.y.a.d.a.v._\n",
            "\n",
            "HTTP redirect from https://i.instagram.com/api/v1/users/web_profile_info/?username=_.b.h.a.r.a.t.h.__.y.a.d.a.v._ to https://i.instagram.com/accounts/login/?next=/api/v1/users/web_profile_info/\n",
            "The account is private. You need to be logged in to access its details.\n",
            "Account Page URL: https://www.instagram.com/_.b.h.a.r.a.t.h.__.y.a.d.a.v._/\n"
          ]
        }
      ]
    }
  ]
}